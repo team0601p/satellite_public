{
 "cells": [
  {
   "cell_type": "code",
   "execution_count": null,
   "id": "f3cc6053",
   "metadata": {},
   "outputs": [],
   "source": [
    "import torch\n",
    "from dataset import *\n",
    "import models as m\n",
    "from tqdm import tqdm\n",
    "import matplotlib.pyplot as plt\n",
    "from torchvision.utils import draw_segmentation_masks\n",
    "import cv2"
   ]
  },
  {
   "cell_type": "code",
   "execution_count": null,
   "id": "e3011cd3",
   "metadata": {},
   "outputs": [],
   "source": [
    "validdataset = SatelliteValidDataset(dataset_path='./dataset/')\n",
    "validloader = torch.utils.data.DataLoader(validdataset,\n",
    "                                          batch_size=15,\n",
    "                                          shuffle=False,\n",
    "                                          num_workers=16)"
   ]
  },
  {
   "cell_type": "code",
   "execution_count": null,
   "id": "e0a77ecc",
   "metadata": {},
   "outputs": [],
   "source": [
    "def visualize(images, gts, preds):\n",
    "    batchs = images.size(0)\n",
    "    \n",
    "    images = images.cpu().numpy() # -> [batch, channels, height, width]\n",
    "    gts = gts.cpu().type(torch.bool)  # -> [batch, height, width]\n",
    "    preds = preds.cpu().type(torch.bool) # -> [batch, height, width]\n",
    "    \n",
    "    \n",
    "    for i in range(batchs):\n",
    "        norm_img = cv2.normalize(images[i], None, alpha=0, beta=255, norm_type = cv2.NORM_MINMAX, dtype = cv2.CV_32F)\n",
    "        norm_img = torch.tensor(norm_img.astype(np.uint8), dtype=torch.uint8)\n",
    "        \n",
    "        gt = draw_segmentation_masks(norm_img, gts[i], colors='red')\n",
    "        pred = draw_segmentation_masks(norm_img, preds[i], colors='red')\n",
    "        \n",
    "        plt.figure(figsize=(12,4))\n",
    "        \n",
    "        plt.subplot(1, 3, 1)\n",
    "        plt.title('Image')\n",
    "        plt.imshow(norm_img.numpy().transpose(1,2,0))\n",
    "        \n",
    "        plt.subplot(1, 3, 2)\n",
    "        plt.title('Ground-Truth')\n",
    "        plt.imshow(gt.numpy().transpose(1,2,0))\n",
    "        \n",
    "        plt.subplot(1, 3, 3)\n",
    "        plt.title('Pred')\n",
    "        plt.imshow(pred.numpy().transpose(1,2,0))\n",
    "        \n",
    "        plt.show()\n",
    "    "
   ]
  },
  {
   "cell_type": "code",
   "execution_count": null,
   "id": "a40fea17",
   "metadata": {},
   "outputs": [],
   "source": [
    "model = m.UperNet_InternImage_B().to('cuda')\n",
    "model.load_state_dict(torch.load('./checkpoint3/UperNet_InternImage_B_10'))"
   ]
  },
  {
   "cell_type": "code",
   "execution_count": null,
   "id": "533b3731",
   "metadata": {},
   "outputs": [],
   "source": [
    "count = 0\n",
    "for img, mask in validloader:\n",
    "\n",
    "    imgf = img.float().to('cuda')\n",
    "    outputs = model(imgf)\n",
    "    pred = (torch.sigmoid(outputs) > 0.35).squeeze(1)\n",
    "\n",
    "    break"
   ]
  },
  {
   "cell_type": "code",
   "execution_count": null,
   "id": "5f6ccc67",
   "metadata": {},
   "outputs": [],
   "source": [
    "visualize(img, mask, pred)"
   ]
  },
  {
   "cell_type": "code",
   "execution_count": null,
   "id": "89204434",
   "metadata": {},
   "outputs": [],
   "source": []
  }
 ],
 "metadata": {
  "kernelspec": {
   "display_name": "Python 3 (ipykernel)",
   "language": "python",
   "name": "python3"
  },
  "language_info": {
   "codemirror_mode": {
    "name": "ipython",
    "version": 3
   },
   "file_extension": ".py",
   "mimetype": "text/x-python",
   "name": "python",
   "nbconvert_exporter": "python",
   "pygments_lexer": "ipython3",
   "version": "3.10.6"
  }
 },
 "nbformat": 4,
 "nbformat_minor": 5
}
